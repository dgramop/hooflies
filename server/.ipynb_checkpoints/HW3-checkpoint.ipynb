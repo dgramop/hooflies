{
 "cells": [
  {
   "cell_type": "code",
   "execution_count": 78,
   "id": "fbdecf35-b640-4a85-a12b-908501a18b65",
   "metadata": {
    "tags": []
   },
   "outputs": [],
   "source": [
    "import numpy as np;\n",
    "import math"
   ]
  },
  {
   "cell_type": "markdown",
   "id": "8c073d05-5abc-4dee-abaf-5de53a8cbed8",
   "metadata": {},
   "source": [
    "# Problem 1(a)\n",
    "Centered Matrix"
   ]
  },
  {
   "cell_type": "code",
   "execution_count": 37,
   "id": "16e2eddb-1520-4a8e-9e51-1df52fcd2534",
   "metadata": {
    "tags": []
   },
   "outputs": [],
   "source": [
    "mat = np.matrix('2 2 3; 0 2 3; 1 1 3')"
   ]
  },
  {
   "cell_type": "code",
   "execution_count": 14,
   "id": "ebf7ec8f-20a6-4df8-9d06-539043699f16",
   "metadata": {
    "tags": []
   },
   "outputs": [],
   "source": [
    "mean = mat.mean()"
   ]
  },
  {
   "cell_type": "code",
   "execution_count": 16,
   "id": "c495f1a0-a83d-407c-9467-93ff0b867378",
   "metadata": {
    "tags": []
   },
   "outputs": [
    {
     "data": {
      "text/plain": [
       "matrix([[ 0.11111111,  0.11111111,  1.11111111],\n",
       "        [-1.88888889,  0.11111111,  1.11111111],\n",
       "        [-0.88888889, -0.88888889,  1.11111111]])"
      ]
     },
     "execution_count": 16,
     "metadata": {},
     "output_type": "execute_result"
    }
   ],
   "source": [
    "centered = mat - mean\n",
    "centered"
   ]
  },
  {
   "cell_type": "markdown",
   "id": "38eec9e4-a3b6-491b-8985-16450ddde0bf",
   "metadata": {},
   "source": [
    "# Problem 1(b)\n",
    "Covariance Matrix"
   ]
  },
  {
   "cell_type": "code",
   "execution_count": 22,
   "id": "5a0e6f88-083d-45c3-94d0-f2c46d4e7531",
   "metadata": {
    "tags": []
   },
   "outputs": [
    {
     "data": {
      "text/plain": [
       "array([[0.33333333, 0.66666667, 0.66666667],\n",
       "       [0.66666667, 2.33333333, 1.33333333],\n",
       "       [0.66666667, 1.33333333, 1.33333333]])"
      ]
     },
     "execution_count": 22,
     "metadata": {},
     "output_type": "execute_result"
    }
   ],
   "source": [
    "cov = np.cov(centered)\n",
    "cov"
   ]
  },
  {
   "cell_type": "markdown",
   "id": "65c8e70e-ccc3-44bc-b645-1e6cb533e956",
   "metadata": {},
   "source": [
    "# Problem 1(c)\n",
    "Compute the principle components of X. Computing SVD shows that it's the same as the eigen decomp since U = V = Q"
   ]
  },
  {
   "cell_type": "code",
   "execution_count": 67,
   "id": "b725fca5-74b4-4a92-873b-f187007fe9c2",
   "metadata": {
    "tags": []
   },
   "outputs": [
    {
     "data": {
      "text/plain": [
       "(array([[-2.79603668e-01,  3.49029782e-01, -8.94427191e-01],\n",
       "        [-7.80454320e-01, -6.25212808e-01,  5.55111512e-17],\n",
       "        [-5.59207335e-01,  6.98059565e-01,  4.47213595e-01]]),\n",
       " array([3.52752523e+00, 4.72474768e-01, 1.26533209e-16]),\n",
       " array([[-2.79603668e-01, -7.80454320e-01, -5.59207335e-01],\n",
       "        [ 3.49029782e-01, -6.25212808e-01,  6.98059565e-01],\n",
       "        [ 8.94427191e-01, -1.06540163e-16, -4.47213595e-01]]))"
      ]
     },
     "execution_count": 67,
     "metadata": {},
     "output_type": "execute_result"
    }
   ],
   "source": [
    "np.linalg.svd(cov)"
   ]
  },
  {
   "cell_type": "code",
   "execution_count": 68,
   "id": "d6a8df80-61e5-49bc-9269-108cbfb7da5e",
   "metadata": {
    "tags": []
   },
   "outputs": [
    {
     "data": {
      "text/plain": [
       "(array([3.52752523e+00, 1.11967988e-16, 4.72474768e-01]),\n",
       " array([[-2.79603668e-01, -8.94427191e-01,  3.49029782e-01],\n",
       "        [-7.80454320e-01, -2.15178894e-20, -6.25212808e-01],\n",
       "        [-5.59207335e-01,  4.47213595e-01,  6.98059565e-01]]))"
      ]
     },
     "execution_count": 68,
     "metadata": {},
     "output_type": "execute_result"
    }
   ],
   "source": [
    "np.linalg.eig(cov)"
   ]
  },
  {
   "cell_type": "markdown",
   "id": "6cad3bb2-21a4-4def-8b96-3770cc849f65",
   "metadata": {},
   "source": [
    "The first principle component is (-2.8, -7.8, -5.6), the second is (3.5, -6.3, 7) and the third is (-9, -2.1, 4.4)."
   ]
  },
  {
   "cell_type": "markdown",
   "id": "844d5252-5304-47e1-a811-031c252aaf5a",
   "metadata": {},
   "source": [
    "# Problem 1(d)\n",
    "## Compute distance matrix"
   ]
  },
  {
   "cell_type": "code",
   "execution_count": 60,
   "id": "98142824-0d3a-4dc0-bfa6-ebff34928a09",
   "metadata": {},
   "outputs": [
    {
     "data": {
      "text/plain": [
       "matrix([[0, 4, 1],\n",
       "        [4, 0, 1],\n",
       "        [1, 1, 0]])"
      ]
     },
     "execution_count": 60,
     "metadata": {},
     "output_type": "execute_result"
    }
   ],
   "source": [
    "D=np.matrix(\"0 0 0; 0 0 0; 0 0 0\")\n",
    "for i in range(0,3):\n",
    "    for j in range(0,3):\n",
    "        #print(\"i\"+str(i)+\" j\"+str(j))\n",
    "        #print(np.linalg.norm(mat[i] - mat[j]))\n",
    "        D[i,j] = np.linalg.norm(mat[i] - mat[j])\n",
    "        # square the distances\n",
    "        D[i,j] = D[i,j] ** 2\n",
    "D"
   ]
  },
  {
   "cell_type": "markdown",
   "id": "fa90611c-6e36-4a9c-8c0d-bdc26ccba571",
   "metadata": {
    "tags": []
   },
   "source": [
    "## Compute centering matrix"
   ]
  },
  {
   "cell_type": "code",
   "execution_count": 61,
   "id": "b165358a-5f0f-4ebe-9ba4-e716b7d3832a",
   "metadata": {
    "tags": []
   },
   "outputs": [
    {
     "data": {
      "text/plain": [
       "matrix([[ 0.66666667, -0.33333333, -0.33333333],\n",
       "        [-0.33333333,  0.66666667, -0.33333333],\n",
       "        [-0.33333333, -0.33333333,  0.66666667]])"
      ]
     },
     "execution_count": 61,
     "metadata": {},
     "output_type": "execute_result"
    }
   ],
   "source": [
    "I = np.matrix(\"1 0 0; 0 1 0; 0 0 1\");\n",
    "J = np.matrix(\"1 1 1; 1 1 1; 1 1 1\");\n",
    "C = I - J/3\n",
    "C"
   ]
  },
  {
   "cell_type": "markdown",
   "id": "20c5e944-1fb6-4f2c-8f2c-ba6ff93ddf5f",
   "metadata": {
    "tags": []
   },
   "source": [
    "## Center distance matrix"
   ]
  },
  {
   "cell_type": "code",
   "execution_count": 65,
   "id": "1469f22a-ccef-4a51-8086-7a386d8717c4",
   "metadata": {
    "tags": []
   },
   "outputs": [
    {
     "data": {
      "text/plain": [
       "matrix([[ 1.00000000e+00, -1.00000000e+00,  6.16790569e-18],\n",
       "        [-1.00000000e+00,  1.00000000e+00,  6.16790569e-18],\n",
       "        [ 3.39234813e-17,  2.00456935e-17,  8.01827740e-17]])"
      ]
     },
     "execution_count": 65,
     "metadata": {},
     "output_type": "execute_result"
    }
   ],
   "source": [
    "B = (-1/2)*C*D*C\n",
    "B"
   ]
  },
  {
   "cell_type": "code",
   "execution_count": 98,
   "id": "5a213595-2f00-43f5-87a4-329ec8817952",
   "metadata": {
    "tags": []
   },
   "outputs": [
    {
     "name": "stdout",
     "output_type": "stream",
     "text": [
      "[2.0000000e+00 0.0000000e+00 8.0182774e-17]\n",
      "[[ 7.07106781e-01 -7.07106781e-01  7.64719113e-02]\n",
      " [-7.07106781e-01 -7.07106781e-01  7.64719113e-02]\n",
      " [ 2.39875237e-17  2.39875237e-17  9.94134847e-01]]\n"
     ]
    }
   ],
   "source": [
    "(evalues, evecs) = np.linalg.eig(B)\n",
    "print(evalues)\n",
    "print(evecs)\n",
    "#evalues = numpy.sort(evalues)"
   ]
  },
  {
   "cell_type": "code",
   "execution_count": 99,
   "id": "5faa7611-6445-4553-a471-c323286c1417",
   "metadata": {
    "tags": []
   },
   "outputs": [
    {
     "name": "stdout",
     "output_type": "stream",
     "text": [
      "[[1.41421356e+00 0.00000000e+00 0.00000000e+00]\n",
      " [0.00000000e+00 8.95448346e-09 0.00000000e+00]\n",
      " [0.00000000e+00 0.00000000e+00 0.00000000e+00]]\n"
     ]
    }
   ],
   "source": [
    "# Create the diagonal part of the matrix\n",
    "V = np.matrix([\n",
    "    [math.sqrt(evalues[0]), 0, 0],\n",
    "    [0, math.sqrt(evalues[2]), 0],\n",
    "    [0, 0, math.sqrt(evalues[1])]\n",
    "])\n",
    "print(V)\n",
    "\n",
    "# reorder the eigenvectors\n",
    "evecs = evecs * np.matrix(\"1 0 0; 0 0 1; 0 1 0\")"
   ]
  },
  {
   "cell_type": "code",
   "execution_count": 100,
   "id": "4868bb89-4c63-467e-9402-276907e2fa9b",
   "metadata": {
    "tags": []
   },
   "outputs": [
    {
     "data": {
      "text/plain": [
       "matrix([[ 1.00000000e+00,  1.08147614e-01, -1.00000000e+00],\n",
       "        [-6.33177598e-09,  6.84766465e-10, -6.33177598e-09],\n",
       "        [ 0.00000000e+00,  0.00000000e+00,  0.00000000e+00]])"
      ]
     },
     "execution_count": 100,
     "metadata": {},
     "output_type": "execute_result"
    }
   ],
   "source": [
    "# Square root the eigenvalues, place them on a diagonal, then multiply by their eigenvectors\n",
    "X = V * evecs\n",
    "X"
   ]
  },
  {
   "cell_type": "code",
   "execution_count": null,
   "id": "0b84fa29-b958-4edb-8bb0-65b1a29753a1",
   "metadata": {},
   "outputs": [],
   "source": [
    "# Now embed the rows of X in R^2 with the above X\n"
   ]
  }
 ],
 "metadata": {
  "kernelspec": {
   "display_name": "Python 3 (ipykernel)",
   "language": "python",
   "name": "python3"
  },
  "language_info": {
   "codemirror_mode": {
    "name": "ipython",
    "version": 3
   },
   "file_extension": ".py",
   "mimetype": "text/x-python",
   "name": "python",
   "nbconvert_exporter": "python",
   "pygments_lexer": "ipython3",
   "version": "3.11.2"
  }
 },
 "nbformat": 4,
 "nbformat_minor": 5
}
